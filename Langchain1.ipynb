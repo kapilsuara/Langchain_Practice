{
 "cells": [
  {
   "cell_type": "code",
   "execution_count": 79,
   "metadata": {},
   "outputs": [],
   "source": [
    "# venv\\Scripts\\activate\n"
   ]
  },
  {
   "cell_type": "code",
   "execution_count": 80,
   "metadata": {},
   "outputs": [],
   "source": [
    "from transformers import pipeline"
   ]
  },
  {
   "cell_type": "code",
   "execution_count": 81,
   "metadata": {},
   "outputs": [],
   "source": [
    "Black_Hole = '''A black hole is a region in space where \n",
    "gravity is so strong that nothing,\n",
    "not even light, can escape. It forms when a\n",
    "massive star collapses under its own gravity.\n",
    "The boundary around it, called the event horizon,\n",
    "marks the point of no return. At its core lies \n",
    "a singularity, where density becomes infinite.\n",
    "Black holes can be stellar, supermassive, \n",
    "or intermediate in size. They influence nearby objects, \n",
    "pulling in matter and distorting space-time. Scientists\n",
    "detect them by observing their effects on nearby stars and light.\n",
    "Black holes play a crucial role in galaxy formation and cosmic evolution.'''"
   ]
  },
  {
   "cell_type": "code",
   "execution_count": 82,
   "metadata": {},
   "outputs": [
    {
     "name": "stdout",
     "output_type": "stream",
     "text": [
      "A black hole is a region in space where \n",
      "gravity is so strong that nothing,\n",
      "not even light, can escape. It forms when a\n",
      "massive star collapses under its own gravity.\n",
      "The boundary around it, called the event horizon,\n",
      "marks the point of no return. At its core lies \n",
      "a singularity, where density becomes infinite.\n",
      "Black holes can be stellar, supermassive, \n",
      "or intermediate in size. They influence nearby objects, \n",
      "pulling in matter and distorting space-time. Scientists\n",
      "detect them by observing their effects on nearby stars and light.\n",
      "Black holes play a crucial role in galaxy formation and cosmic evolution.\n"
     ]
    }
   ],
   "source": [
    "print(Black_Hole)"
   ]
  },
  {
   "cell_type": "code",
   "execution_count": 83,
   "metadata": {},
   "outputs": [
    {
     "name": "stderr",
     "output_type": "stream",
     "text": [
      "All PyTorch model weights were used when initializing TFDistilBertForQuestionAnswering.\n",
      "\n",
      "All the weights of TFDistilBertForQuestionAnswering were initialized from the PyTorch model.\n",
      "If your task is similar to the task the model of the checkpoint was trained on, you can already use TFDistilBertForQuestionAnswering for predictions without further training.\n",
      "Device set to use 0\n"
     ]
    }
   ],
   "source": [
    "#load question answering pipline \n",
    "\n",
    "qa_pipeline = qa_pipeline = pipeline(\"question-answering\", model=\"distilbert-base-cased-distilled-squad\")"
   ]
  },
  {
   "cell_type": "code",
   "execution_count": 84,
   "metadata": {},
   "outputs": [],
   "source": [
    "def Question_answering(question , context = Black_Hole):\n",
    "    \n",
    "    response = qa_pipeline(question=question, context=context)\n",
    "    ans = response['answer']\n",
    "    sc = response[\"score\"]\n",
    "    \n",
    "    return ans,sc"
   ]
  },
  {
   "cell_type": "code",
   "execution_count": 78,
   "metadata": {},
   "outputs": [
    {
     "name": "stdout",
     "output_type": "stream",
     "text": [
      "68.44136118888855\n",
      "galaxy formation and cosmic evolution\n"
     ]
    }
   ],
   "source": [
    "qu = \" Black holes play a crucial role in \"\n",
    "answer, confidence = Question_answering(qu)\n",
    "\n",
    "\n",
    "print(confidence*100)\n",
    "print(answer)"
   ]
  }
 ],
 "metadata": {
  "kernelspec": {
   "display_name": "venv",
   "language": "python",
   "name": "python3"
  },
  "language_info": {
   "codemirror_mode": {
    "name": "ipython",
    "version": 3
   },
   "file_extension": ".py",
   "mimetype": "text/x-python",
   "name": "python",
   "nbconvert_exporter": "python",
   "pygments_lexer": "ipython3",
   "version": "3.10.7"
  }
 },
 "nbformat": 4,
 "nbformat_minor": 2
}
