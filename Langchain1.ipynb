{
 "cells": [
  {
   "cell_type": "code",
   "execution_count": 2,
   "metadata": {},
   "outputs": [],
   "source": [
    "# venv\\Scripts\\activate\n"
   ]
  },
  {
   "cell_type": "code",
   "execution_count": 3,
   "metadata": {},
   "outputs": [
    {
     "name": "stderr",
     "output_type": "stream",
     "text": [
      "d:\\python in DSA\\venv\\Langchain_Practice\\lib\\site-packages\\tqdm\\auto.py:21: TqdmWarning: IProgress not found. Please update jupyter and ipywidgets. See https://ipywidgets.readthedocs.io/en/stable/user_install.html\n",
      "  from .autonotebook import tqdm as notebook_tqdm\n"
     ]
    }
   ],
   "source": [
    "from transformers import pipeline"
   ]
  },
  {
   "cell_type": "code",
   "execution_count": 10,
   "metadata": {},
   "outputs": [],
   "source": [
    "Black_Hole = '''A black hole is a region in space where \n",
    "gravity is so strong that nothing,\n",
    "not even light, can escape. It forms when a\n",
    "massive star collapses under its own gravity.\n",
    "The boundary around it, called the event horizon,\n",
    "marks the point of no return. At its core lies \n",
    "a singularity, where density becomes infinite.\n",
    "Black holes can be stellar, supermassive, \n",
    "or intermediate in size. They influence nearby objects, \n",
    "pulling in matter and distorting space-time. Scientists\n",
    "detect them by observing their effects on nearby stars and light.\n",
    "Black holes play a crucial role in galaxy formation and cosmic evolution.'''"
   ]
  },
  {
   "cell_type": "code",
   "execution_count": 5,
   "metadata": {},
   "outputs": [],
   "source": [
    "# print(Black_Hole)"
   ]
  },
  {
   "cell_type": "code",
   "execution_count": 6,
   "metadata": {},
   "outputs": [
    {
     "name": "stdout",
     "output_type": "stream",
     "text": [
      "WARNING:tensorflow:From d:\\python in DSA\\venv\\Langchain_Practice\\lib\\site-packages\\tf_keras\\src\\losses.py:2976: The name tf.losses.sparse_softmax_cross_entropy is deprecated. Please use tf.compat.v1.losses.sparse_softmax_cross_entropy instead.\n",
      "\n",
      "WARNING:tensorflow:From d:\\python in DSA\\venv\\Langchain_Practice\\lib\\site-packages\\tf_keras\\src\\backend.py:873: The name tf.get_default_graph is deprecated. Please use tf.compat.v1.get_default_graph instead.\n",
      "\n"
     ]
    },
    {
     "name": "stderr",
     "output_type": "stream",
     "text": [
      "All PyTorch model weights were used when initializing TFDistilBertForQuestionAnswering.\n",
      "\n",
      "All the weights of TFDistilBertForQuestionAnswering were initialized from the PyTorch model.\n",
      "If your task is similar to the task the model of the checkpoint was trained on, you can already use TFDistilBertForQuestionAnswering for predictions without further training.\n",
      "Device set to use 0\n"
     ]
    }
   ],
   "source": [
    "#load question answering pipline \n",
    "\n",
    "qa_pipeline = qa_pipeline = pipeline(\"question-answering\", model=\"distilbert-base-cased-distilled-squad\")"
   ]
  },
  {
   "cell_type": "code",
   "execution_count": 7,
   "metadata": {},
   "outputs": [],
   "source": [
    "def Question_answering(question , context = Black_Hole):\n",
    "    \n",
    "    response = qa_pipeline(question=question, context=context)\n",
    "    ans = response['answer']\n",
    "    sc = response[\"score\"]\n",
    "    \n",
    "    print(sc*100)\n",
    "    print(ans)"
   ]
  },
  {
   "cell_type": "code",
   "execution_count": 8,
   "metadata": {},
   "outputs": [],
   "source": [
    "# qu = \" Black holes play a crucial role in \"\n",
    "# answer, confidence = Question_answering(qu)\n",
    "\n",
    "\n",
    "# print(confidence*100)\n",
    "# print(answer)"
   ]
  },
  {
   "cell_type": "code",
   "execution_count": 9,
   "metadata": {},
   "outputs": [
    {
     "name": "stdout",
     "output_type": "stream",
     "text": [
      "Hello, Type Your Question or want to stop then Type 'exit': \n",
      "68.44136118888855\n",
      "galaxy formation and cosmic evolution\n",
      "Hello, Type Your Question or want to stop then Type 'exit': \n",
      "68.44136118888855\n",
      "galaxy formation and cosmic evolution\n",
      "Hello, Type Your Question or want to stop then Type 'exit': \n"
     ]
    }
   ],
   "source": [
    "def main():\n",
    "    \n",
    "    while True:\n",
    "    \n",
    "     print(\"Hello, Type Your Question or want to stop then Type 'exit': \")\n",
    "     \n",
    "     input1 = input()\n",
    "     \n",
    "     \n",
    "     if input1.lower()==\"exit\":\n",
    "         break\n",
    "     \n",
    "     Question_answering(input1)\n",
    "\n",
    "main()\n",
    "     \n",
    "     \n",
    "     \n",
    "     \n",
    "    \n",
    "    \n",
    "    \n",
    "    "
   ]
  },
  {
   "cell_type": "code",
   "execution_count": null,
   "metadata": {},
   "outputs": [],
   "source": []
  }
 ],
 "metadata": {
  "kernelspec": {
   "display_name": "Langchain_Practice",
   "language": "python",
   "name": "python3"
  },
  "language_info": {
   "codemirror_mode": {
    "name": "ipython",
    "version": 3
   },
   "file_extension": ".py",
   "mimetype": "text/x-python",
   "name": "python",
   "nbconvert_exporter": "python",
   "pygments_lexer": "ipython3",
   "version": "3.10.7"
  }
 },
 "nbformat": 4,
 "nbformat_minor": 2
}
